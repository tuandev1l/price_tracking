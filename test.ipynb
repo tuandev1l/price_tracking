{
 "cells": [
  {
   "cell_type": "code",
   "execution_count": null,
   "metadata": {},
   "outputs": [],
   "source": [
    "import time\n",
    "import datetime\n",
    "import coloredlogs\n",
    "import logging"
   ]
  },
  {
   "cell_type": "code",
   "execution_count": null,
   "metadata": {},
   "outputs": [],
   "source": [
    "# logger = logging.getLogger('Thread 1')\n",
    "coloredlogs.install(level='DEBUG', logger=logging, isatty=True)\n",
    "logging.warning(\"test\")"
   ]
  },
  {
   "cell_type": "code",
   "execution_count": null,
   "metadata": {},
   "outputs": [],
   "source": [
    "print(time.asctime())\n",
    "print()"
   ]
  },
  {
   "cell_type": "code",
   "execution_count": null,
   "metadata": {},
   "outputs": [],
   "source": [
    "print(time.asctime())\n",
    "print(datetime.datetime.now().strftime('%Y_%m_%d_%H_%M_%S'))"
   ]
  },
  {
   "cell_type": "code",
   "execution_count": null,
   "metadata": {},
   "outputs": [],
   "source": [
    "#   jsonRes['warranty_policy'] = tryCatchInfo('warranty_policy', data)\n",
    "#   jsonRes['short_url'] = tryCatchInfo('short_url', data)\n",
    "#   jsonRes['short_description'] = tryCatchInfo(\n",
    "#       'short_description', data)\n",
    "#   jsonRes['thumbnail_url'] = tryCatchInfo('thumbnail_url', data)\n",
    "#   jsonRes['day_ago_created'] = tryCatchInfo('day_ago_created', data)\n",
    "#   jsonRes['all_time_quantity_sold'] = tryCatchInfo(\n",
    "#       'all_time_quantity_sold', data)\n",
    "# jsonRes['warranty_info'] = tryCatchInfo('warranty_info', data)\n",
    "# jsonRes['authors'] = tryCatchInfo(\n",
    "#     'authors', replaceIdToOriginalId(data))\n",
    "# jsonRes['specifications'] = tryCatchInfo('specifications', data)\n",
    "# jsonRes['configurable_options'] = tryCatchInfo(\n",
    "#     'configurable_options', data)\n",
    "# jsonRes['highlight'] = tryCatchInfo('highlight', data)\n",
    "# jsonRes['quantity_sold'] = tryCatchInfo('quantity_sold', data)\n",
    "# jsonRes['categories'] = tryCatchInfo(\n",
    "#     'categories', replaceIdToOriginalId(data))\n",
    "# jsonRes['brand'] = tryCatchInfo('brand', replaceIdToOriginalId(data))"
   ]
  },
  {
   "cell_type": "code",
   "execution_count": 62,
   "metadata": {},
   "outputs": [
    {
     "data": {
      "text/html": [
       "<div>\n",
       "<style scoped>\n",
       "    .dataframe tbody tr th:only-of-type {\n",
       "        vertical-align: middle;\n",
       "    }\n",
       "\n",
       "    .dataframe tbody tr th {\n",
       "        vertical-align: top;\n",
       "    }\n",
       "\n",
       "    .dataframe thead th {\n",
       "        text-align: right;\n",
       "    }\n",
       "</style>\n",
       "<table border=\"1\" class=\"dataframe\">\n",
       "  <thead>\n",
       "    <tr style=\"text-align: right;\">\n",
       "      <th></th>\n",
       "      <th>ecommerce</th>\n",
       "      <th>category</th>\n",
       "      <th>original_id</th>\n",
       "      <th>name</th>\n",
       "      <th>price</th>\n",
       "      <th>original_price</th>\n",
       "      <th>discount</th>\n",
       "      <th>discount_rate</th>\n",
       "    </tr>\n",
       "  </thead>\n",
       "  <tbody>\n",
       "    <tr>\n",
       "      <th>0</th>\n",
       "      <td>TIKI</td>\n",
       "      <td>nha-sach-tiki</td>\n",
       "      <td>75615273</td>\n",
       "      <td>Combo 3 Cuốn Sách Ehon: Buồn Ngủ Ơi Là Buồn Ng...</td>\n",
       "      <td>75700</td>\n",
       "      <td>117000</td>\n",
       "      <td>41300</td>\n",
       "      <td>35</td>\n",
       "    </tr>\n",
       "    <tr>\n",
       "      <th>1</th>\n",
       "      <td>TIKI</td>\n",
       "      <td>nha-sach-tiki</td>\n",
       "      <td>50215817</td>\n",
       "      <td>Combo Cẩm Nang Bé Gái Tuổi Dậy Thì - Quyển 1 V...</td>\n",
       "      <td>260500</td>\n",
       "      <td>260500</td>\n",
       "      <td>0</td>\n",
       "      <td>0</td>\n",
       "    </tr>\n",
       "    <tr>\n",
       "      <th>2</th>\n",
       "      <td>TIKI</td>\n",
       "      <td>nha-sach-tiki</td>\n",
       "      <td>273536931</td>\n",
       "      <td>Kinh Doanh Thời Trang - 8 Bước Xây Dựng, Vận H...</td>\n",
       "      <td>155000</td>\n",
       "      <td>199000</td>\n",
       "      <td>44000</td>\n",
       "      <td>22</td>\n",
       "    </tr>\n",
       "    <tr>\n",
       "      <th>3</th>\n",
       "      <td>TIKI</td>\n",
       "      <td>nha-sach-tiki</td>\n",
       "      <td>113406962</td>\n",
       "      <td>(Gift) Bút ký khắc tên cao cấp Doanh nhân LC 0...</td>\n",
       "      <td>299000</td>\n",
       "      <td>299000</td>\n",
       "      <td>0</td>\n",
       "      <td>0</td>\n",
       "    </tr>\n",
       "    <tr>\n",
       "      <th>4</th>\n",
       "      <td>TIKI</td>\n",
       "      <td>nha-sach-tiki</td>\n",
       "      <td>74021317</td>\n",
       "      <td>Cây Cam Ngọt Của Tôi</td>\n",
       "      <td>77300</td>\n",
       "      <td>108000</td>\n",
       "      <td>30700</td>\n",
       "      <td>28</td>\n",
       "    </tr>\n",
       "  </tbody>\n",
       "</table>\n",
       "</div>"
      ],
      "text/plain": [
       "  ecommerce       category  original_id  \\\n",
       "0      TIKI  nha-sach-tiki     75615273   \n",
       "1      TIKI  nha-sach-tiki     50215817   \n",
       "2      TIKI  nha-sach-tiki    273536931   \n",
       "3      TIKI  nha-sach-tiki    113406962   \n",
       "4      TIKI  nha-sach-tiki     74021317   \n",
       "\n",
       "                                                name   price  original_price  \\\n",
       "0  Combo 3 Cuốn Sách Ehon: Buồn Ngủ Ơi Là Buồn Ng...   75700          117000   \n",
       "1  Combo Cẩm Nang Bé Gái Tuổi Dậy Thì - Quyển 1 V...  260500          260500   \n",
       "2  Kinh Doanh Thời Trang - 8 Bước Xây Dựng, Vận H...  155000          199000   \n",
       "3  (Gift) Bút ký khắc tên cao cấp Doanh nhân LC 0...  299000          299000   \n",
       "4                               Cây Cam Ngọt Của Tôi   77300          108000   \n",
       "\n",
       "   discount  discount_rate  \n",
       "0     41300             35  \n",
       "1         0              0  \n",
       "2     44000             22  \n",
       "3         0              0  \n",
       "4     30700             28  "
      ]
     },
     "execution_count": 62,
     "metadata": {},
     "output_type": "execute_result"
    }
   ],
   "source": [
    "import pandas as pd\n",
    "\n",
    "headers = ['ecommerce', 'category', 'original_id',\n",
    "           'name',\n",
    "           'price',\n",
    "           'original_price',\n",
    "           'discount',\n",
    "           'discount_rate']\n",
    "df = pd.read_csv('./data/2024_03_31_21_31_39.csv')\n",
    "df.head()"
   ]
  },
  {
   "cell_type": "code",
   "execution_count": 64,
   "metadata": {},
   "outputs": [
    {
     "data": {
      "text/plain": [
       "55"
      ]
     },
     "execution_count": 64,
     "metadata": {},
     "output_type": "execute_result"
    }
   ],
   "source": [
    "df.shape[0]"
   ]
  },
  {
   "cell_type": "code",
   "execution_count": 65,
   "metadata": {},
   "outputs": [],
   "source": [
    "import json\n",
    "\n",
    "with open('first.json', 'r') as f:\n",
    "  data = f.read()"
   ]
  },
  {
   "cell_type": "code",
   "execution_count": 66,
   "metadata": {},
   "outputs": [
    {
     "name": "stdout",
     "output_type": "stream",
     "text": [
      "6\n"
     ]
    }
   ],
   "source": [
    "print(len(json.loads(data)['data']))"
   ]
  }
 ],
 "metadata": {
  "kernelspec": {
   "display_name": "Python 3",
   "language": "python",
   "name": "python3"
  },
  "language_info": {
   "codemirror_mode": {
    "name": "ipython",
    "version": 3
   },
   "file_extension": ".py",
   "mimetype": "text/x-python",
   "name": "python",
   "nbconvert_exporter": "python",
   "pygments_lexer": "ipython3",
   "version": "3.11.8"
  }
 },
 "nbformat": 4,
 "nbformat_minor": 2
}
