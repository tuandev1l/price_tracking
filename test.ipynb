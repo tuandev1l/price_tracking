{
 "cells": [
  {
   "cell_type": "code",
   "execution_count": 2,
   "metadata": {},
   "outputs": [],
   "source": [
    "import time\n",
    "import datetime\n",
    "import coloredlogs\n",
    "import logging"
   ]
  },
  {
   "cell_type": "code",
   "execution_count": null,
   "metadata": {},
   "outputs": [],
   "source": [
    "# logger = logging.getLogger('Thread 1')\n",
    "coloredlogs.install(level='DEBUG', logger=logging, isatty=True)\n",
    "logging.warning(\"test\")"
   ]
  },
  {
   "cell_type": "code",
   "execution_count": 3,
   "metadata": {},
   "outputs": [
    {
     "name": "stdout",
     "output_type": "stream",
     "text": [
      "Sun Mar 31 11:51:31 2024\n",
      "\n"
     ]
    }
   ],
   "source": [
    "print(time.asctime())\n",
    "print()"
   ]
  },
  {
   "cell_type": "code",
   "execution_count": 7,
   "metadata": {},
   "outputs": [
    {
     "name": "stdout",
     "output_type": "stream",
     "text": [
      "Sun Mar 31 11:53:01 2024\n",
      "2024_03_31_11_53_01\n"
     ]
    }
   ],
   "source": [
    "print(time.asctime())\n",
    "print(datetime.datetime.now().strftime('%Y_%m_%d_%H_%M_%S'))"
   ]
  },
  {
   "cell_type": "code",
   "execution_count": null,
   "metadata": {},
   "outputs": [],
   "source": [
    "#   jsonRes['warranty_policy'] = tryCatchInfo('warranty_policy', data)\n",
    "#   jsonRes['short_url'] = tryCatchInfo('short_url', data)\n",
    "#   jsonRes['short_description'] = tryCatchInfo(\n",
    "#       'short_description', data)\n",
    "#   jsonRes['thumbnail_url'] = tryCatchInfo('thumbnail_url', data)\n",
    "#   jsonRes['day_ago_created'] = tryCatchInfo('day_ago_created', data)\n",
    "#   jsonRes['all_time_quantity_sold'] = tryCatchInfo(\n",
    "#       'all_time_quantity_sold', data)\n",
    "# jsonRes['warranty_info'] = tryCatchInfo('warranty_info', data)\n",
    "# jsonRes['authors'] = tryCatchInfo(\n",
    "#     'authors', replaceIdToOriginalId(data))\n",
    "# jsonRes['specifications'] = tryCatchInfo('specifications', data)\n",
    "# jsonRes['configurable_options'] = tryCatchInfo(\n",
    "#     'configurable_options', data)\n",
    "# jsonRes['highlight'] = tryCatchInfo('highlight', data)\n",
    "# jsonRes['quantity_sold'] = tryCatchInfo('quantity_sold', data)\n",
    "# jsonRes['categories'] = tryCatchInfo(\n",
    "#     'categories', replaceIdToOriginalId(data))\n",
    "# jsonRes['brand'] = tryCatchInfo('brand', replaceIdToOriginalId(data))"
   ]
  }
 ],
 "metadata": {
  "kernelspec": {
   "display_name": "Python 3",
   "language": "python",
   "name": "python3"
  },
  "language_info": {
   "codemirror_mode": {
    "name": "ipython",
    "version": 3
   },
   "file_extension": ".py",
   "mimetype": "text/x-python",
   "name": "python",
   "nbconvert_exporter": "python",
   "pygments_lexer": "ipython3",
   "version": "3.11.8"
  }
 },
 "nbformat": 4,
 "nbformat_minor": 2
}
